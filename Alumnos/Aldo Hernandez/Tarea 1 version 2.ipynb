{
 "cells": [
  {
   "cell_type": "markdown",
   "metadata": {},
   "source": [
    "### <span style = \"color: red\"> EJERCICIO 1 </span>\n",
    "\n",
    "* Escribe los metodos `__repr__` y `__str__` para la clase Array de forma que se imprima legiblemente como en numpy arrays."
   ]
  },
  {
   "cell_type": "code",
   "execution_count": 1,
   "metadata": {
    "collapsed": true
   },
   "outputs": [],
   "source": [
    "class Array:\n",
    "    \"Una clase minima para algebra lineal\"    \n",
    "    def __init__(self, list_of_rows): \n",
    "        \"Constructor y validador\"\n",
    "        # obtener dimensiones\n",
    "        self.data = list_of_rows\n",
    "        nrow = len(list_of_rows)\n",
    "        #  ___caso vector: redimensionar correctamente\n",
    "        if not isinstance(list_of_rows[0], list):\n",
    "            nrow = 1\n",
    "            self.data = [[x] for x in list_of_rows]\n",
    "        # ahora las columnas deben estar bien aunque sea un vector\n",
    "        ncol = len(self.data[0])\n",
    "        self.shape = (nrow, ncol)\n",
    "        # validar tamano correcto de filas\n",
    "        if any([len(r) != ncol for r in self.data]):\n",
    "            raise Exception(\"Las filas deben ser del mismo tamano\")\n",
    "    def __repr__(self):\n",
    "        self.repr = \"\"\n",
    "        for i in range((self.shape[0]-1)):\n",
    "            self.repr += str(self.data[i]) + ',' + '\\n'\n",
    "        self.repr = self.repr + str(self.data[self.shape[0]-1])\n",
    "        return \"([\" + self.repr + \"])\"\n",
    "    def __str__(self):\n",
    "        self.stru = \"\"\n",
    "        self.str = \"\"\n",
    "        for j in range(self.shape[0]-1):\n",
    "            self.str = \"\"\n",
    "            for i in range(self.shape[1]):\n",
    "                self.str += str(self.data[j][i]) + ' '\n",
    "            self.stru += self.str + '\\n'\n",
    "            self.str = \"\"\n",
    "        for i in range(self.shape[1]):\n",
    "            self.str += str(self.data[self.shape[0]-1][i]) + ' '\n",
    "        self.stru = self.stru + self.str\n",
    "\n",
    "        return \"[ \" + str(self.stru) +\"]\""
   ]
  },
  {
   "cell_type": "code",
   "execution_count": 2,
   "metadata": {
    "collapsed": true
   },
   "outputs": [],
   "source": [
    "A = Array([[1,2,3,4],[4,5,6,7]])"
   ]
  },
  {
   "cell_type": "code",
   "execution_count": 3,
   "metadata": {},
   "outputs": [
    {
     "data": {
      "text/plain": [
       "([[1, 2, 3, 4],\n",
       "[4, 5, 6, 7]])"
      ]
     },
     "execution_count": 3,
     "metadata": {},
     "output_type": "execute_result"
    }
   ],
   "source": [
    "A"
   ]
  },
  {
   "cell_type": "code",
   "execution_count": 4,
   "metadata": {},
   "outputs": [
    {
     "name": "stdout",
     "output_type": "stream",
     "text": [
      "[ 1 2 3 4 \n",
      "4 5 6 7 ]\n"
     ]
    }
   ],
   "source": [
    "print(A)"
   ]
  },
  {
   "cell_type": "markdown",
   "metadata": {},
   "source": [
    "### <span style = \"color: red\"> EJERCICIO 2 </span>\n",
    "\n",
    "* Escribe el metodo `__setitem__` para que el codigo `A[i,j] = new_value` cambie el valor de la entrada (i,j) del array. El esqueleto de la funcion es\n",
    "```python\n",
    "class Array:\n",
    "    #\n",
    "    #\n",
    "    def __setitem__(self, idx, new_value):\n",
    "        \"Ejercicio\"\n",
    "    #\n",
    "```"
   ]
  },
  {
   "cell_type": "code",
   "execution_count": 410,
   "metadata": {
    "collapsed": true
   },
   "outputs": [],
   "source": [
    "class Array:\n",
    "    \"Una clase minima para algebra lineal\"    \n",
    "    def __init__(self, list_of_rows): \n",
    "        \"Constructor y validador\"\n",
    "        # obtener dimensiones\n",
    "        self.data = list_of_rows\n",
    "        nrow = len(list_of_rows)\n",
    "        #  ___caso vector: redimensionar correctamente\n",
    "        if not isinstance(list_of_rows[0], list):\n",
    "            nrow = 1\n",
    "            self.data = [[x] for x in list_of_rows]\n",
    "        # ahora las columnas deben estar bien aunque sea un vector\n",
    "        ncol = len(self.data[0])\n",
    "        self.shape = (nrow, ncol)\n",
    "        # validar tamano correcto de filas\n",
    "        if any([len(r) != ncol for r in self.data]):\n",
    "            raise Exception(\"Las filas deben ser del mismo tamano\")\n",
    "    def __getitem__(self, idx):\n",
    "        return self.data[idx[0]][idx[1]]\n",
    "    def __setitem__(self,idx,new_value):\n",
    "        self.data[idx[0]][idx[1]] = new_value"
   ]
  },
  {
   "cell_type": "code",
   "execution_count": 6,
   "metadata": {
    "collapsed": true
   },
   "outputs": [],
   "source": [
    "A = Array([[1,2,3],[4,5,6]])"
   ]
  },
  {
   "cell_type": "code",
   "execution_count": 7,
   "metadata": {},
   "outputs": [
    {
     "data": {
      "text/plain": [
       "2"
      ]
     },
     "execution_count": 7,
     "metadata": {},
     "output_type": "execute_result"
    }
   ],
   "source": [
    "A[0,1]"
   ]
  },
  {
   "cell_type": "code",
   "execution_count": 8,
   "metadata": {
    "collapsed": true
   },
   "outputs": [],
   "source": [
    "A[0,1] = 3"
   ]
  },
  {
   "cell_type": "code",
   "execution_count": 9,
   "metadata": {},
   "outputs": [
    {
     "data": {
      "text/plain": [
       "3"
      ]
     },
     "execution_count": 9,
     "metadata": {},
     "output_type": "execute_result"
    }
   ],
   "source": [
    "A[0,1]"
   ]
  },
  {
   "cell_type": "markdown",
   "metadata": {},
   "source": [
    "### <span style = \"color: red\"> EJERCICIO 3 </span>\n",
    "\n",
    "1. Implementa una funcion de zeros para crear arrays \"vacios\"\n",
    "```python\n",
    "def zeros(shape):\n",
    "    \"Implementame por favor\"\n",
    "```\n",
    "**Hint**, encontraras utiles las listas de comprehension, por ejemplo el codigo `[0. for x in range(5)]` crea una lista de 5 ceros.\n",
    "2. Implementa una funcion `eye(n)` que crea la matriz identidad de $n\\times n$ (es decir, la matriz que tiene puros ceros y unos en la diagonal). El nombre `eye` es tradicional en software de algebra lineal, aunque no es muy intuitivo."
   ]
  },
  {
   "cell_type": "code",
   "execution_count": 10,
   "metadata": {
    "collapsed": true
   },
   "outputs": [],
   "source": [
    "class Array:\n",
    "    def __init__(self, list_of_rows):\n",
    "        \"Constructor y validador\"\n",
    "        # obtener dimensiones\n",
    "        self.data = list_of_rows\n",
    "        self.shape = (len(list_of_rows), len(list_of_rows[0]))\n",
    "        nrow = len(list_of_rows)\n",
    "        #  ___caso vector: redimensionar correctamente\n",
    "        if not isinstance(list_of_rows[0], list):\n",
    "            nrow = 1\n",
    "            self.data = [[x] for x in list_of_rows]\n",
    "        # ahora las columnas deben estar bien aunque sea un vector\n",
    "        ncol = len(self.data[0])\n",
    "        self.shape = (nrow, ncol)\n",
    "        # validar tamano correcto de filas\n",
    "        if any([len(r) != ncol for r in self.data]):\n",
    "            raise Exception(\"Las filas deben ser del mismo tamano\")\n",
    "    def zeros(self,r,c):\n",
    "        self.columnas = c\n",
    "        self.filas = r\n",
    "        self.zeros = [[0 for col in range(c)] for row in range(r)]\n",
    "        return self.zeros\n",
    "    def eye(self,n):\n",
    "        self.zeros = [[0 for col in range(n)] for row in range(n)]\n",
    "        for i in range(n):\n",
    "            self.zeros[i][i] = 1\n",
    "        return self.zeros"
   ]
  },
  {
   "cell_type": "code",
   "execution_count": 11,
   "metadata": {
    "collapsed": true
   },
   "outputs": [],
   "source": [
    "A = Array([[1,2,3],[4,5,6]])"
   ]
  },
  {
   "cell_type": "code",
   "execution_count": 12,
   "metadata": {},
   "outputs": [
    {
     "data": {
      "text/plain": [
       "[[0, 0, 0], [0, 0, 0]]"
      ]
     },
     "execution_count": 12,
     "metadata": {},
     "output_type": "execute_result"
    }
   ],
   "source": [
    "A.zeros(2,3)"
   ]
  },
  {
   "cell_type": "code",
   "execution_count": 13,
   "metadata": {},
   "outputs": [
    {
     "data": {
      "text/plain": [
       "[[1, 0], [0, 1]]"
      ]
     },
     "execution_count": 13,
     "metadata": {},
     "output_type": "execute_result"
    }
   ],
   "source": [
    "A.eye(2)"
   ]
  },
  {
   "cell_type": "code",
   "execution_count": 14,
   "metadata": {
    "collapsed": true
   },
   "outputs": [],
   "source": [
    "class Zeros:\n",
    "    def __init__(self,r,c):\n",
    "        self.columnas = c\n",
    "        self.filas = r\n",
    "        self.data = [[0 for col in range(c)] for row in range(r)]\n",
    "    def __repr__(self):\n",
    "        self.repr = \"\"\n",
    "        for i in range((self.filas-1)):\n",
    "            self.repr += str(self.data[i]) + ',' + '\\n'\n",
    "        self.repr = self.repr + str(self.data[self.filas-1])\n",
    "        return \"([\" + self.repr + \"])\"\n",
    "    def __str__(self):\n",
    "        self.stru = \"\"\n",
    "        self.str = \"\"\n",
    "        for j in range(self.filas-1):\n",
    "            self.str = \"\"\n",
    "            for i in range(self.columnas):\n",
    "                self.str += str(self.data[j][i]) + ' '\n",
    "            self.stru += self.str + '\\n'\n",
    "            self.str = \"\"\n",
    "        for i in range(self.columnas):\n",
    "            self.str += str(self.data[self.filas-1][i]) + ' '\n",
    "        self.stru = self.stru + self.str\n",
    "        return \"[ \" + str(self.stru) +\"]\""
   ]
  },
  {
   "cell_type": "code",
   "execution_count": 15,
   "metadata": {
    "collapsed": true
   },
   "outputs": [],
   "source": [
    "x = Zeros(5,6)"
   ]
  },
  {
   "cell_type": "code",
   "execution_count": 16,
   "metadata": {},
   "outputs": [
    {
     "data": {
      "text/plain": [
       "([[0, 0, 0, 0, 0, 0],\n",
       "[0, 0, 0, 0, 0, 0],\n",
       "[0, 0, 0, 0, 0, 0],\n",
       "[0, 0, 0, 0, 0, 0],\n",
       "[0, 0, 0, 0, 0, 0]])"
      ]
     },
     "execution_count": 16,
     "metadata": {},
     "output_type": "execute_result"
    }
   ],
   "source": [
    "x"
   ]
  },
  {
   "cell_type": "code",
   "execution_count": 17,
   "metadata": {},
   "outputs": [
    {
     "name": "stdout",
     "output_type": "stream",
     "text": [
      "[ 0 0 0 0 0 0 \n",
      "0 0 0 0 0 0 \n",
      "0 0 0 0 0 0 \n",
      "0 0 0 0 0 0 \n",
      "0 0 0 0 0 0 ]\n"
     ]
    }
   ],
   "source": [
    "print(x)"
   ]
  },
  {
   "cell_type": "code",
   "execution_count": 18,
   "metadata": {
    "collapsed": true
   },
   "outputs": [],
   "source": [
    "class eye:\n",
    "    def __init__(self,n):\n",
    "        self.dim = n\n",
    "        self.data = [[0 for col in range(n)] for row in range(n)]\n",
    "        for i in range(n):\n",
    "            self.data[i][i] = 1\n",
    "    def __repr__(self):\n",
    "        self.repr = \"\"\n",
    "        for i in range((self.dim-1)):\n",
    "            self.repr += str(self.data[i]) + ',' + '\\n'\n",
    "        self.repr = self.repr + str(self.data[self.dim-1])\n",
    "        return \"([\" + self.repr + \"])\"\n",
    "    def __str__(self):\n",
    "        self.stru = \"\"\n",
    "        self.str = \"\"\n",
    "        for j in range(self.dim-1):\n",
    "            self.str = \"\"\n",
    "            for i in range(self.dim):\n",
    "                self.str += str(self.data[j][i]) + ' '\n",
    "            self.stru += self.str + '\\n'\n",
    "            self.str = \"\"\n",
    "        for i in range(self.dim):\n",
    "            self.str += str(self.data[self.dim-1][i]) + ' '\n",
    "        self.stru = self.stru + self.str\n",
    "        return \"[ \" + str(self.stru) +\"]\""
   ]
  },
  {
   "cell_type": "code",
   "execution_count": 19,
   "metadata": {
    "collapsed": true
   },
   "outputs": [],
   "source": [
    "y = eye(2)"
   ]
  },
  {
   "cell_type": "code",
   "execution_count": 20,
   "metadata": {},
   "outputs": [
    {
     "data": {
      "text/plain": [
       "([[1, 0],\n",
       "[0, 1]])"
      ]
     },
     "execution_count": 20,
     "metadata": {},
     "output_type": "execute_result"
    }
   ],
   "source": [
    "y"
   ]
  },
  {
   "cell_type": "code",
   "execution_count": 21,
   "metadata": {},
   "outputs": [
    {
     "name": "stdout",
     "output_type": "stream",
     "text": [
      "[ 1 0 \n",
      "0 1 ]\n"
     ]
    }
   ],
   "source": [
    "print(y)"
   ]
  },
  {
   "cell_type": "markdown",
   "metadata": {},
   "source": [
    "### <span style = \"color: red\"> EJERCICIO 4 </span>\n",
    "\n",
    "* Implementa la funcion de transposicion\n",
    "```python\n",
    "class Array:\n",
    "    ###\n",
    "    ###\n",
    "    ###\n",
    "    def transpose(self):\n",
    "        \"Implementame :)\"\n",
    "        ###        \n",
    "```"
   ]
  },
  {
   "cell_type": "code",
   "execution_count": 22,
   "metadata": {
    "collapsed": true
   },
   "outputs": [],
   "source": [
    "class Array:\n",
    "    \"Una clase minima para algebra lineal\"    \n",
    "    def __init__(self, list_of_rows):\n",
    "        \"Constructor y validador\"\n",
    "        # obtener dimensiones\n",
    "        self.data = list_of_rows\n",
    "        self.shape = (len(list_of_rows), len(list_of_rows[0]))\n",
    "        nrow = len(list_of_rows)\n",
    "        #  ___caso vector: redimensionar correctamente\n",
    "        if not isinstance(list_of_rows[0], list):\n",
    "            nrow = 1\n",
    "            self.data = [[x] for x in list_of_rows]\n",
    "        # ahora las columnas deben estar bien aunque sea un vector\n",
    "        ncol = len(self.data[0])\n",
    "        self.shape = (nrow, ncol)\n",
    "        # validar tamano correcto de filas\n",
    "        if any([len(r) != ncol for r in self.data]):\n",
    "            raise Exception(\"Las filas deben ser del mismo tamano\")\n",
    "\n",
    "    def transpose(self):\n",
    "        self.fila = self.shape[0]\n",
    "        self.columna = self.shape[1]\n",
    "        self.row = [[0 for col in range(self.fila)] for row in range(self.columna)]\n",
    "        for j in range(self.columna):\n",
    "            for i in range(self.fila):\n",
    "                self.row[j][i] = self.data[i][j]\n",
    "        return self.row"
   ]
  },
  {
   "cell_type": "code",
   "execution_count": 23,
   "metadata": {
    "collapsed": true
   },
   "outputs": [],
   "source": [
    "A = Array([[1,2,3,4],[5,6,7,8],[9,10,11,12]])"
   ]
  },
  {
   "cell_type": "code",
   "execution_count": 24,
   "metadata": {},
   "outputs": [
    {
     "data": {
      "text/plain": [
       "[[1, 5, 9], [2, 6, 10], [3, 7, 11], [4, 8, 12]]"
      ]
     },
     "execution_count": 24,
     "metadata": {},
     "output_type": "execute_result"
    }
   ],
   "source": [
    "A.transpose()"
   ]
  },
  {
   "cell_type": "markdown",
   "metadata": {},
   "source": [
    "### <span style = \"color: red\"> EJERCICIO 5</span>\n",
    "\n",
    "1. (dificil) En nuestra clase Array la expresion `A + 1` tiene sentido para un Array `A`, sin embargo la expresion inversa falla, por ejemplo \n",
    "```python\n",
    "1 + Array([[1,2], [3,4]])\n",
    "```\n",
    "entrega un error. Investiga como implementar el metodo de clase `__radd__` para resolver este problema.\n",
    "2. Nuestro metodo de suma no sabe restar, implementa el metodo de clase `__sub__` similar a la suma para poder calcular expresiones como A - B para A y B arrays o numeros.\n"
   ]
  },
  {
   "cell_type": "code",
   "execution_count": 25,
   "metadata": {
    "collapsed": true
   },
   "outputs": [],
   "source": [
    "class Array:\n",
    "    \"Una clase minima para algebra lineal\"    \n",
    "    def __init__(self, list_of_rows): \n",
    "        \"Constructor y validador\"\n",
    "        # obtener dimensiones\n",
    "        self.data = list_of_rows\n",
    "        nrow = len(list_of_rows)\n",
    "        #  ___caso vector: redimensionar correctamente\n",
    "        if not isinstance(list_of_rows[0], list):\n",
    "            nrow = 1\n",
    "            self.data = [[x] for x in list_of_rows]\n",
    "        # ahora las columnas deben estar bien aunque sea un vector\n",
    "        ncol = len(self.data[0])\n",
    "        self.shape = (nrow, ncol)\n",
    "        # validar tamano correcto de filas\n",
    "        if any([len(r) != ncol for r in self.data]):\n",
    "            raise Exception(\"Las filas deben ser del mismo tamano\")\n",
    "        \n",
    "    def __add__(self, other):\n",
    "        if isinstance(other, Array):\n",
    "            if self.shape != other.shape:\n",
    "                raise Exception(\"Las dimensiones son distintas!\")\n",
    "            rows, cols = self.shape\n",
    "            newArray = Array([[0. for c in range(cols)] for r in range(rows)])\n",
    "            for r in range(rows):\n",
    "                for c in range(cols):\n",
    "                    newArray.data[r][c] = self.data[r][c] + other.data[r][c]\n",
    "            return newArray\n",
    "        elif isinstance(2, (int, float, complex)): # en caso de que el lado derecho sea solo un numero\n",
    "            rows, cols = self.shape\n",
    "            newArray = Array([[0. for c in range(cols)] for r in range(rows)])\n",
    "            for r in range(rows):\n",
    "                for c in range(cols):\n",
    "                    newArray.data[r][c] = self.data[r][c] + other\n",
    "            return newArray\n",
    "        else:\n",
    "            return NotImplemented # es un tipo de error particular usado en estos metodos\n",
    "    \"Parte 1\"\n",
    "    __radd__ = __add__\n",
    "    \n",
    "    \"Parte 2\"\n",
    "    def __sub__(self, other):\n",
    "        if isinstance(other, Array):\n",
    "            if self.shape != other.shape:\n",
    "                raise Exception(\"Las dimensiones son distintas!\")\n",
    "            rows, cols = self.shape\n",
    "            newArray = Array([[0. for c in range(cols)] for r in range(rows)])\n",
    "            for r in range(rows):\n",
    "                for c in range(cols):\n",
    "                    newArray.data[r][c] = self.data[r][c] - other.data[r][c]\n",
    "            return newArray\n",
    "        elif isinstance(2, (int, float, complex)): # en caso de que el lado derecho sea solo un numero\n",
    "            rows, cols = self.shape\n",
    "            newArray = Array([[0. for c in range(cols)] for r in range(rows)])\n",
    "            for r in range(rows):\n",
    "                for c in range(cols):\n",
    "                    newArray.data[r][c] = self.data[r][c] - other\n",
    "            return newArray\n",
    "        else:\n",
    "            return NotImplemented # es un tipo de error particular usado en estos metodos\n",
    "\n",
    "    def __rsub__(self, other):\n",
    "        if isinstance(2, (int, float, complex)): # en caso de que el lado derecho sea solo un numero\n",
    "            rows, cols = self.shape\n",
    "            newArray = Array([[0. for c in range(cols)] for r in range(rows)])\n",
    "            for r in range(rows):\n",
    "                for c in range(cols):\n",
    "                    newArray.data[r][c] = other - self.data[r][c]\n",
    "            return newArray\n",
    "        else:\n",
    "            return NotImplemented # es un tipo de error particular usado en estos metodos"
   ]
  },
  {
   "cell_type": "code",
   "execution_count": 26,
   "metadata": {
    "collapsed": true
   },
   "outputs": [],
   "source": [
    "A = Array([[1,2,3],[4,5,6]])"
   ]
  },
  {
   "cell_type": "code",
   "execution_count": 27,
   "metadata": {
    "collapsed": true
   },
   "outputs": [],
   "source": [
    "B = Array([[4,5,6],[7,8,9]])"
   ]
  },
  {
   "cell_type": "code",
   "execution_count": 28,
   "metadata": {
    "collapsed": true
   },
   "outputs": [],
   "source": [
    "C = A + B"
   ]
  },
  {
   "cell_type": "code",
   "execution_count": 29,
   "metadata": {},
   "outputs": [
    {
     "data": {
      "text/plain": [
       "[[5, 7, 9], [11, 13, 15]]"
      ]
     },
     "execution_count": 29,
     "metadata": {},
     "output_type": "execute_result"
    }
   ],
   "source": [
    "C.data"
   ]
  },
  {
   "cell_type": "code",
   "execution_count": 30,
   "metadata": {
    "collapsed": true
   },
   "outputs": [],
   "source": [
    "D = A + 2"
   ]
  },
  {
   "cell_type": "code",
   "execution_count": 31,
   "metadata": {},
   "outputs": [
    {
     "data": {
      "text/plain": [
       "[[3, 4, 5], [6, 7, 8]]"
      ]
     },
     "execution_count": 31,
     "metadata": {},
     "output_type": "execute_result"
    }
   ],
   "source": [
    "D.data"
   ]
  },
  {
   "cell_type": "code",
   "execution_count": 32,
   "metadata": {
    "collapsed": true
   },
   "outputs": [],
   "source": [
    "E = 3 + B"
   ]
  },
  {
   "cell_type": "code",
   "execution_count": 33,
   "metadata": {},
   "outputs": [
    {
     "data": {
      "text/plain": [
       "[[7, 8, 9], [10, 11, 12]]"
      ]
     },
     "execution_count": 33,
     "metadata": {},
     "output_type": "execute_result"
    }
   ],
   "source": [
    "E.data"
   ]
  },
  {
   "cell_type": "code",
   "execution_count": 34,
   "metadata": {
    "collapsed": true
   },
   "outputs": [],
   "source": [
    "F = A - B"
   ]
  },
  {
   "cell_type": "code",
   "execution_count": 35,
   "metadata": {},
   "outputs": [
    {
     "data": {
      "text/plain": [
       "[[-3, -3, -3], [-3, -3, -3]]"
      ]
     },
     "execution_count": 35,
     "metadata": {},
     "output_type": "execute_result"
    }
   ],
   "source": [
    "F.data"
   ]
  },
  {
   "cell_type": "code",
   "execution_count": 36,
   "metadata": {
    "collapsed": true
   },
   "outputs": [],
   "source": [
    "G = B - 3"
   ]
  },
  {
   "cell_type": "code",
   "execution_count": 37,
   "metadata": {},
   "outputs": [
    {
     "data": {
      "text/plain": [
       "[[1, 2, 3], [4, 5, 6]]"
      ]
     },
     "execution_count": 37,
     "metadata": {},
     "output_type": "execute_result"
    }
   ],
   "source": [
    "G.data"
   ]
  },
  {
   "cell_type": "code",
   "execution_count": 38,
   "metadata": {
    "collapsed": true
   },
   "outputs": [],
   "source": [
    "H = 10 - A"
   ]
  },
  {
   "cell_type": "code",
   "execution_count": 39,
   "metadata": {},
   "outputs": [
    {
     "data": {
      "text/plain": [
       "[[9, 8, 7], [6, 5, 4]]"
      ]
     },
     "execution_count": 39,
     "metadata": {},
     "output_type": "execute_result"
    }
   ],
   "source": [
    "H.data"
   ]
  },
  {
   "cell_type": "markdown",
   "metadata": {
    "collapsed": true
   },
   "source": [
    "### <span style = \"color: red\"> EJERCICIO 6 </span>\n",
    "\n",
    "Implementa las funciones `__mul__` y `__rmul__` para hacer multiplicacion matricial (y por un escalar). **Hint**. Entiende y modifica el codigo de suma del punto anterior"
   ]
  },
  {
   "cell_type": "code",
   "execution_count": 10,
   "metadata": {
    "collapsed": true
   },
   "outputs": [],
   "source": [
    "class Array:\n",
    "    def __init__(self, list_of_rows): \n",
    "        \"Constructor y validador\"\n",
    "        # obtener dimensiones\n",
    "        self.data = list_of_rows\n",
    "        nrow = len(list_of_rows)\n",
    "        #  ___caso vector: redimensionar correctamente\n",
    "        if not isinstance(list_of_rows[0], list):\n",
    "            nrow = 1\n",
    "            self.data = [[x] for x in list_of_rows]\n",
    "        # ahora las columnas deben estar bien aunque sea un vector\n",
    "        ncol = len(self.data[0])\n",
    "        self.shape = (nrow, ncol)\n",
    "        # validar tamano correcto de filas\n",
    "        if any([len(r) != ncol for r in self.data]):\n",
    "            raise Exception(\"Las filas deben ser del mismo tamano\")\n",
    "        \n",
    "    def __mul__(self, other):\n",
    "        if isinstance(other, Array):\n",
    "            if self.shape[1] != other.shape[0]:\n",
    "                raise Exception(\"Las dimensiones no coinciden!\")\n",
    "            rowsarr = self.shape[0]\n",
    "            coincidir = self.shape[1]\n",
    "            colsoth = other.shape[1]\n",
    "            val = 0\n",
    "            newArray = Array([[0. for c in range(colsoth)] for r in range(rowsarr)])\n",
    "            for r in range(rowsarr):\n",
    "                for c in range(colsoth):\n",
    "                    val = 0\n",
    "                    for i in range(coincidir):\n",
    "                        val += self.data[r][i] * other.data[i][c]\n",
    "                    newArray.data[r][c] = val\n",
    "            return newArray\n",
    "        elif isinstance(2, (int, float, complex)): # en caso de que el lado derecho sea solo un numero\n",
    "            rows, cols = self.shape\n",
    "            newArray = Array([[0. for c in range(cols)] for r in range(rows)])\n",
    "            for r in range(rows):\n",
    "                for c in range(cols):\n",
    "                    newArray.data[r][c] = self.data[r][c] * other\n",
    "            return newArray\n",
    "        else:\n",
    "            return NotImplemented # es un tipo de error particular usado en estos metodos\n",
    "    __rmul__ = __mul__"
   ]
  },
  {
   "cell_type": "code",
   "execution_count": 11,
   "metadata": {
    "collapsed": true
   },
   "outputs": [],
   "source": [
    "A = Array([[1,2],[4,5],[7,8]])"
   ]
  },
  {
   "cell_type": "code",
   "execution_count": 12,
   "metadata": {
    "collapsed": true
   },
   "outputs": [],
   "source": [
    "B = Array([[4,5,6],[7,8,9]])"
   ]
  },
  {
   "cell_type": "code",
   "execution_count": 14,
   "metadata": {
    "collapsed": true
   },
   "outputs": [],
   "source": [
    "C = A * B "
   ]
  },
  {
   "cell_type": "code",
   "execution_count": 15,
   "metadata": {},
   "outputs": [
    {
     "data": {
      "text/plain": [
       "[[18, 21, 24], [51, 60, 69], [84, 99, 114]]"
      ]
     },
     "execution_count": 15,
     "metadata": {},
     "output_type": "execute_result"
    }
   ],
   "source": [
    "C.data"
   ]
  },
  {
   "cell_type": "code",
   "execution_count": 17,
   "metadata": {
    "collapsed": true
   },
   "outputs": [],
   "source": [
    "D = A * 2"
   ]
  },
  {
   "cell_type": "code",
   "execution_count": 18,
   "metadata": {},
   "outputs": [
    {
     "data": {
      "text/plain": [
       "[[2, 4], [8, 10], [14, 16]]"
      ]
     },
     "execution_count": 18,
     "metadata": {},
     "output_type": "execute_result"
    }
   ],
   "source": [
    "D.data"
   ]
  },
  {
   "cell_type": "code",
   "execution_count": 21,
   "metadata": {
    "collapsed": true
   },
   "outputs": [],
   "source": [
    "E = -2 * B"
   ]
  },
  {
   "cell_type": "code",
   "execution_count": 22,
   "metadata": {},
   "outputs": [
    {
     "data": {
      "text/plain": [
       "[[-8, -10, -12], [-14, -16, -18]]"
      ]
     },
     "execution_count": 22,
     "metadata": {},
     "output_type": "execute_result"
    }
   ],
   "source": [
    "E.data"
   ]
  },
  {
   "cell_type": "markdown",
   "metadata": {
    "collapsed": true
   },
   "source": [
    "EJERCICIOS 7-10\n",
    "\n",
    "Implementa una funcion forward_subs que resuelva sistemas de ecuaciones de la forma $Lx = y$ con $L$ triangular inferior y $y$ cualquier Vector o Array de una columna.\n",
    "\n",
    "Implementa una funcion backward_subs que resuelva sistemas $Ux = y$ con $U$ triangular superior y y Vector o Array de una columna.\n",
    "\n",
    "Implementa una funcion LU que reciba un Array  $A$ y devuelva 3 arrays $L$,$U$ y $P$ tales que  $PA = LU$ con $L$ trangular inferior, $U$ triangular superior y $P$ matriz de permutacion.\n",
    "\n",
    "Implementa una funcion lu_linsolve que resuelva cualquier sistema de ecuaciones Ax = y con A un Array y y un Vector o Array de una columna. La solución es muy sencilla usando la descomposición LU de los puntos anteriores."
   ]
  },
  {
   "cell_type": "code",
   "execution_count": 558,
   "metadata": {
    "collapsed": true
   },
   "outputs": [],
   "source": [
    "class Array:\n",
    "    def __init__(self, L): \n",
    "        \"Constructor y validador\"\n",
    "        # obtener dimensiones\n",
    "        self.data = L\n",
    "        nrow = len(L)\n",
    "        #  ___caso vector: redimensionar correctamente\n",
    "        if not isinstance(L[0], list):\n",
    "            nrow = 1\n",
    "            self.data = [[x] for x in L]\n",
    "        # ahora las columnas deben estar bien aunque sea un vector\n",
    "        ncol = len(self.data[0])\n",
    "        self.shape = (nrow, ncol)\n",
    "        # validar tamano correcto de filas\n",
    "        if any([len(r) != ncol for r in self.data]):\n",
    "            raise Exception(\"Las filas deben ser del mismo tamano\")\n",
    "        \n",
    "    def __repr__(self):\n",
    "        self.repr = \"\"\n",
    "        for i in range((self.shape[0]-1)):\n",
    "            self.repr += str(self.data[i]) + ',' + '\\n'\n",
    "        self.repr = self.repr + str(self.data[self.shape[0]-1])\n",
    "        return \"([\" + self.repr + \"])\"\n",
    "\n",
    "    def __str__(self):\n",
    "        self.stru = \"\"\n",
    "        self.str = \"\"\n",
    "        for j in range(self.shape[0]-1):\n",
    "            self.str = \"\"\n",
    "            for i in range(self.shape[1]):\n",
    "                self.str += str(self.data[j][i]) + ' '\n",
    "            self.stru += self.str + '\\n'\n",
    "            self.str = \"\"\n",
    "        for i in range(self.shape[1]):\n",
    "            self.str += str(self.data[self.shape[0]-1][i]) + ' '\n",
    "        self.stru = self.stru + self.str\n",
    "        return \"[ \" + str(self.stru) +\"]\"\n",
    "    \n",
    "    def __add__(self, other):\n",
    "        if isinstance(other, Array):\n",
    "            if self.shape != other.shape:\n",
    "                raise Exception(\"Las dimensiones son distintas!\")\n",
    "            rows, cols = self.shape\n",
    "            newArray = Array([[0. for c in range(cols)] for r in range(rows)])\n",
    "            for r in range(rows):\n",
    "                for c in range(cols):\n",
    "                    newArray.data[r][c] = self.data[r][c] + other.data[r][c]\n",
    "            return newArray\n",
    "        elif isinstance(2, (int, float, complex)): # en caso de que el lado derecho sea solo un numero\n",
    "            rows, cols = self.shape\n",
    "            newArray = Array([[0. for c in range(cols)] for r in range(rows)])\n",
    "            for r in range(rows):\n",
    "                for c in range(cols):\n",
    "                    newArray.data[r][c] = self.data[r][c] + other\n",
    "            return newArray\n",
    "        else:\n",
    "            return NotImplemented # es un tipo de error particular usado en estos metodos\n",
    "\n",
    "    __radd__ = __add__\n",
    "    \n",
    "    def __sub__(self, other):\n",
    "        if isinstance(other, Array):\n",
    "            if self.shape != other.shape:\n",
    "                raise Exception(\"Las dimensiones son distintas!\")\n",
    "            rows, cols = self.shape\n",
    "            newArray = Array([[0. for c in range(cols)] for r in range(rows)])\n",
    "            for r in range(rows):\n",
    "                for c in range(cols):\n",
    "                    newArray.data[r][c] = self.data[r][c] - other.data[r][c]\n",
    "            return newArray\n",
    "        elif isinstance(2, (int, float, complex)): # en caso de que el lado derecho sea solo un numero\n",
    "            rows, cols = self.shape\n",
    "            newArray = Array([[0. for c in range(cols)] for r in range(rows)])\n",
    "            for r in range(rows):\n",
    "                for c in range(cols):\n",
    "                    newArray.data[r][c] = self.data[r][c] - other\n",
    "            return newArray\n",
    "        else:\n",
    "            return NotImplemented # es un tipo de error particular usado en estos metodos\n",
    "\n",
    "    def __rsub__(self, other):\n",
    "        if isinstance(2, (int, float, complex)): # en caso de que el lado derecho sea solo un numero\n",
    "            rows, cols = self.shape\n",
    "            newArray = Array([[0. for c in range(cols)] for r in range(rows)])\n",
    "            for r in range(rows):\n",
    "                for c in range(cols):\n",
    "                    newArray.data[r][c] = other - self.data[r][c]\n",
    "            return newArray\n",
    "        else:\n",
    "            return NotImplemented # es un tipo de error particular usado en estos metodos\n",
    "        \n",
    "    def __mul__(self, other):\n",
    "        if isinstance(other, Array):\n",
    "            if self.shape[1] != other.shape[0]:\n",
    "                raise Exception(\"Las dimensiones no coinciden!\")\n",
    "            rowsarr = self.shape[0]\n",
    "            coincidir = self.shape[1]\n",
    "            colsoth = other.shape[1]\n",
    "            val = 0\n",
    "            newArray = Array([[0. for c in range(colsoth)] for r in range(rowsarr)])\n",
    "            for r in range(rowsarr):\n",
    "                for c in range(colsoth):\n",
    "                    val = 0\n",
    "                    for i in range(coincidir):\n",
    "                        val += self.data[r][i] * other.data[i][c]\n",
    "                    newArray.data[r][c] = val\n",
    "            return newArray\n",
    "        elif isinstance(2, (int, float, complex)): # en caso de que el lado derecho sea solo un numero\n",
    "            rows, cols = self.shape\n",
    "            newArray = Array([[0. for c in range(cols)] for r in range(rows)])\n",
    "            for r in range(rows):\n",
    "                for c in range(cols):\n",
    "                    newArray.data[r][c] = self.data[r][c] * other\n",
    "            return newArray\n",
    "        else:\n",
    "            return NotImplemented # es un tipo de error particular usado en estos metodos\n",
    "    __rmul__ = __mul__\n",
    "    \n",
    "    def __getitem__(self, idx):\n",
    "        return self.data[idx[0]][idx[1]]\n",
    "    \n",
    "    def __setitem__(self,idx,new_value):\n",
    "        self.data[idx[0]][idx[1]] = new_value\n",
    "\n",
    "    # Ejercicio 7\n",
    "    def forward_subs(self, y):\n",
    "        L = self.data\n",
    "        nrow = len(L)\n",
    "        ncol = len(L[0])\n",
    "        \n",
    "        if (nrow != ncol):\n",
    "            raise Exception(\"La matriz debe ser cuadrada\")\n",
    "        \n",
    "        for i in range(0,nrow):\n",
    "            for j in range(0,ncol):\n",
    "                if i < j:\n",
    "                    if self.data[i][j] != 0:\n",
    "                        raise Exception(\"No es matriz triangular inferior\")\n",
    "                        \n",
    "        x = []\n",
    "        for i in range(nrow):\n",
    "            x.append(y[i,0])\n",
    "            for j in range(i):\n",
    "                x[i] -=  (L[i][j] * x[j])\n",
    "            x[i] /= L[i][i]\n",
    "        return x\n",
    "\n",
    "    # Ejercicio 8\n",
    "    def backward_subs(self, y):\n",
    "        U = self.data\n",
    "        nrow = len(U)\n",
    "        ncol = len(U[0])\n",
    "        \n",
    "        if (nrow != ncol):\n",
    "            raise Exception(\"La matriz debe ser cuadrada\")\n",
    "        \n",
    "        for i in range(0,nrow):\n",
    "            for j in range(0,ncol):\n",
    "                if i > j:\n",
    "                    if self.data[i][j] != 0:\n",
    "                        raise Exception(\"No es matriz triangular superior\")\n",
    "        \n",
    "        x = [0 for k in range(nrow)]\n",
    "        x[nrow - 1] = y[nrow - 1,0] / U[nrow - 1][nrow - 1]\n",
    "        for i in range(nrow - 2,-1,-1):\n",
    "            m = y[i,0]\n",
    "            for j in range(i + 1, nrow):\n",
    "               m += x[i] - U[i][j] * x[j]\n",
    "            x[i] = m / U[i][i]\n",
    "        return x\n",
    "        \n",
    "    # Ejercicio 9   \n",
    "    def decompLU(self):\n",
    "        A = self.data\n",
    "        nrow = len(A)\n",
    "        ncol = len(A[0])\n",
    "        \n",
    "        P = [[0 for col in range(ncol)] for row in range(nrow)]\n",
    "        L = [[0 for col in range(ncol)] for row in range(nrow)]\n",
    "        U = [[0 for col in range(ncol)] for row in range(nrow)]\n",
    "                        \n",
    "        # P\n",
    "        for i in range(nrow):\n",
    "            P[i][i]= 1\n",
    "        \n",
    "        for k in range(nrow):\n",
    "            r = max(range(k,nrow),key = lambda i: abs(A[i][k]))\n",
    "            if k != r:\n",
    "                P[k], P[r] = P[r], P[k]\n",
    "        \n",
    "        P = Array(P)\n",
    "        \n",
    "        PA = P * Array(A)\n",
    "        \n",
    "        for j in range(nrow):\n",
    "            L[j][j] = 1\n",
    "            for i in range(j + 1):\n",
    "                s1 = sum(L[i][k]*U[k][j] for k in range(i))\n",
    "                U[i][j] = PA[i,j] - s1\n",
    "            for i in range(j,nrow):\n",
    "                s2 = sum(U[k][j]*L[i][k] for k in range(j))\n",
    "                L[i][j] = (PA[i,j] - s2) / U[j][j]\n",
    "        \n",
    "        L = Array(L)\n",
    "        U = Array(U)\n",
    "        \n",
    "        return L,U,P\n",
    "    \n",
    "    # Ejercicio 10\n",
    "    def lu_linsolve(self,b):\n",
    "        A = Array(self.data)\n",
    "        L = A.decompLU()[0]\n",
    "        U = A.decompLU()[1]\n",
    "        P = A.decompLU()[2]\n",
    "        \n",
    "        y = L.forward_subs(b)\n",
    "        nrow = A.shape[0]\n",
    "        \n",
    "        y1 = b        \n",
    "        for i in range(nrow):\n",
    "            y1[i,0] = y[i]    \n",
    "        \n",
    "        x = U.backward_subs(y1)\n",
    "        \n",
    "        x1 = b        \n",
    "        for i in range(nrow):\n",
    "            x1[i,0] = x[i]\n",
    "        \n",
    "        return x"
   ]
  },
  {
   "cell_type": "code",
   "execution_count": 559,
   "metadata": {},
   "outputs": [
    {
     "data": {
      "text/plain": [
       "([[3, 0, 0, 0],\n",
       "[34, 12, 0, 0],\n",
       "[56, 12, 123, 0],\n",
       "[12, 20, 540, 11]])"
      ]
     },
     "execution_count": 559,
     "metadata": {},
     "output_type": "execute_result"
    }
   ],
   "source": [
    "# Triangular Inferior\n",
    "# Metodo Forward\n",
    "B = Array([[3,0,0,0],[34,12,0,0],[56,12,123,0],[12,20,540,11]])\n",
    "B"
   ]
  },
  {
   "cell_type": "code",
   "execution_count": 560,
   "metadata": {},
   "outputs": [
    {
     "data": {
      "text/plain": [
       "[7.666666666666667,\n",
       " -20.055555555555557,\n",
       " -1.2493224932249325,\n",
       " 93.61320522296133]"
      ]
     },
     "execution_count": 560,
     "metadata": {},
     "output_type": "execute_result"
    }
   ],
   "source": [
    "B.forward_subs(Array([[23],[20],[35],[46]]))"
   ]
  },
  {
   "cell_type": "code",
   "execution_count": 561,
   "metadata": {},
   "outputs": [
    {
     "data": {
      "text/plain": [
       "([[3, 1, 4, 6],\n",
       "[0, 1, 34, 12],\n",
       "[0, 0, 123, 12],\n",
       "[0, 0, 0, 11]])"
      ]
     },
     "execution_count": 561,
     "metadata": {},
     "output_type": "execute_result"
    }
   ],
   "source": [
    "# Triangular Superior\n",
    "# Metodo Backward\n",
    "C = Array([[3,1,4,6],[0,1,34,12],[0,0,123,12],[0,0,0,11]])\n",
    "C"
   ]
  },
  {
   "cell_type": "code",
   "execution_count": 562,
   "metadata": {},
   "outputs": [
    {
     "data": {
      "text/plain": [
       "[8.129342202512934,\n",
       " -25.98521803399852,\n",
       " -0.12342941611234293,\n",
       " 4.181818181818182]"
      ]
     },
     "execution_count": 562,
     "metadata": {},
     "output_type": "execute_result"
    }
   ],
   "source": [
    "C.backward_subs(Array([[23],[20],[35],[46]]))"
   ]
  },
  {
   "cell_type": "code",
   "execution_count": 563,
   "metadata": {
    "collapsed": true
   },
   "outputs": [],
   "source": [
    "# Descomposicion PA = LU\n",
    "A = Array([[1,1,1,4],[20,1,5,-11],[5,-4,3,2],[20,30,-12,11]])"
   ]
  },
  {
   "cell_type": "code",
   "execution_count": 564,
   "metadata": {},
   "outputs": [
    {
     "data": {
      "text/plain": [
       "([[1.0, 0, 0, 0],\n",
       "[1.0, 1.0, 0, 0],\n",
       "[0.05, 0.03275862068965517, 1.0, 0],\n",
       "[0.25, -0.14655172413793102, -0.5672823218997359, 1.0]])"
      ]
     },
     "execution_count": 564,
     "metadata": {},
     "output_type": "execute_result"
    }
   ],
   "source": [
    "LUP = A.decompLU()\n",
    "L = LUP[0]\n",
    "L"
   ]
  },
  {
   "cell_type": "code",
   "execution_count": 565,
   "metadata": {},
   "outputs": [
    {
     "data": {
      "text/plain": [
       "([[20, 1, 5, -11],\n",
       "[0, 29.0, -17.0, 22.0],\n",
       "[0, 0, 1.306896551724138, 3.8293103448275865],\n",
       "[0, 0, 0, 10.146437994722953]])"
      ]
     },
     "execution_count": 565,
     "metadata": {},
     "output_type": "execute_result"
    }
   ],
   "source": [
    "U = LUP[1]\n",
    "U"
   ]
  },
  {
   "cell_type": "code",
   "execution_count": 566,
   "metadata": {},
   "outputs": [
    {
     "data": {
      "text/plain": [
       "([[0, 1, 0, 0],\n",
       "[0, 0, 0, 1],\n",
       "[1, 0, 0, 0],\n",
       "[0, 0, 1, 0]])"
      ]
     },
     "execution_count": 566,
     "metadata": {},
     "output_type": "execute_result"
    }
   ],
   "source": [
    "P = LUP[2]\n",
    "P"
   ]
  },
  {
   "cell_type": "code",
   "execution_count": 567,
   "metadata": {},
   "outputs": [
    {
     "data": {
      "text/plain": [
       "[0.19425302301391234,\n",
       " -0.011832011441945081,\n",
       " 0.6290469379794567,\n",
       " 0.5471330126121441]"
      ]
     },
     "execution_count": 567,
     "metadata": {},
     "output_type": "execute_result"
    }
   ],
   "source": [
    "A = Array([[1,1,1,4],[20,1,5,-11],[5,-4,3,2],[20,30,-12,11]])\n",
    "b = Array([[1],[2],[3],[4]])\n",
    "x = A.lu_linsolve(b)\n",
    "# Solucion de PAx = b\n",
    "x"
   ]
  }
 ],
 "metadata": {
  "kernelspec": {
   "display_name": "Python 3",
   "language": "python",
   "name": "python3"
  },
  "language_info": {
   "codemirror_mode": {
    "name": "ipython",
    "version": 3
   },
   "file_extension": ".py",
   "mimetype": "text/x-python",
   "name": "python",
   "nbconvert_exporter": "python",
   "pygments_lexer": "ipython3",
   "version": "3.6.1"
  }
 },
 "nbformat": 4,
 "nbformat_minor": 2
}
