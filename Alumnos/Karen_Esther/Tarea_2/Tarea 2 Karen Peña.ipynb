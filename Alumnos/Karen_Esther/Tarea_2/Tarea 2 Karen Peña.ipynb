{
 "cells": [
  {
   "cell_type": "markdown",
   "metadata": {
    "collapsed": true
   },
   "source": [
    "# Parte 1: Teoría de álgebra lineal y optimización"
   ]
  },
  {
   "cell_type": "markdown",
   "metadata": {},
   "source": [
    "1-. ¿Por qué una matriz equivale a una transformación lineal entre espacios vectoriales?\n",
    "\n",
    "Un espacio vectorial se genera por cualquier conjunto de vectores x1, ..., xk; sus columnas son el efecto sobre los vectores canónicos. Una matriz es la colección de un conjunto de vectores.\n",
    "un vector es una entidad que tiene longitud y dirección \n",
    "\n",
    "2.- ¿Cuál es el efecto de transformación lineal de una matriz diagonal y el de una matriz ortogonal?\n",
    "\n",
    "Es el determinante, que graficamente puede interpretarse como una distorsión del volumen/área. \n",
    "En el caso de la matriz diagonal, la transformación lineal desemboca en el cambio del volumen. \n",
    "En el caso de la matriz ortogonal, la transformación lineal impacta por medio de reflexiones y rotaciones.\n",
    "\n",
    "3.- ¿Qué es la descomposición en valores singulares de una matriz?\n",
    "\n",
    "La descomposición en valores singulares de una matriz muestra que toda transformación lineal es una rotación + redimensión de los ejes canónicos + rotación; es decir, muestra los ejes de máxima distorsión de una matriz.\n",
    "\n",
    "4.- ¿Qué es diagonalizar una matriz y que representan los eigenvectores?\n",
    "\n",
    "Diagonalizar una matriz es encontrar base de eigenvectores.\n",
    "Los eigenvectores muestran la solución a un problema de optimización\n",
    "\n",
    "5.- ¿Intuitivamente qué son los eigenvectores?\n",
    "\n",
    "Muestran la máxima distorsión\n",
    "Son las direcciones a lo largo de las cuales la transformación lineal ocurre solamente por el escalamiento, mientras que los valores propios λi son las escalas a lo largo de esas direcciones. Para matrices simétricas, los vectores propios son ortogonales entre sí. \n",
    "\n",
    "6.- ¿Cómo interpretas la descomposición en valores singulares como una composición de tres tipos de transformaciones lineales simples?\n",
    "\n",
    "7.- ¿Qué relación hay entre la descomposición en valores singulares y la diagonalización?\n",
    "\n",
    "Si A es una matriz de m*n, los valores singulares de A son las raices cuadradas de los autovalores de (A^T)*A\n",
    "\n",
    "8.- ¿Cómo se usa la descomposición en valores singulares para dar un aproximación de rango menor a una matriz?\n",
    "\n",
    "La descomposición en valores singulares provee una aproximación de la matriz en cuestión que corresponde solamente a los k primeros valores singulares y los correspondientes vectores singulares siendo no nulos.\n",
    "\n",
    "9.- Describe el método de minimización por descenso gradiente\n",
    "\n",
    "Consiste en la selección del elemento que maximiza el ascenso o descenso (según sea el caso) una función con base en un conjunto de elementos disponibles\n",
    "\n",
    "El método del gradiente consiste en un algortimo específico para la resolución de un modelo de programación lineal sin restricciones, perteneciente a la categoría de algoritmos generales de descenso, donde la búsqueda de un mínimo esta asociado a la resolución secuencial de una serie de problemas unidimensionales.\n",
    "\n",
    "10.- Menciona 4 ejemplo de problemas de optimización (dos con restricciones y dos sin restricciones) que te parecan interesantes como Científico de Datos\n",
    "\n",
    "Eficiencia terminal de los alumnos en las carreras de Ciencias de la Salud en México; comparando los resultados entre universidades públicas y privadas\n",
    "Reducir el costo de la nómina docente en la Universidad del Valle de México\n",
    "Programa social para maximizar el numero de beneficiarios a salud pública en personas de la 3ra edad\n",
    "Sistema que permita mapear la congestión vehicular para agilizar la movilidad y así optimizar los espacios de las ciudades"
   ]
  },
  {
   "cell_type": "markdown",
   "metadata": {
    "collapsed": true
   },
   "source": [
    "# Parte 2: Aplicaciones en Python"
   ]
  },
  {
   "cell_type": "code",
   "execution_count": 9,
   "metadata": {},
   "outputs": [
    {
     "data": {
      "text/plain": [
       "array([[  0,   1,   2,   0,   0],\n",
       "       [  3,   4,   5,   0,   1],\n",
       "       [  6,   7,   8,   0,   2],\n",
       "       [  9,  10,  11,   0,   3],\n",
       "       [ 12,  13,  14,   0,   4],\n",
       "       [ 15,  16,  17,   1,   0],\n",
       "       [ 18,  19,  20,   1,   1],\n",
       "       [ 21,  22,  23,   1,   2],\n",
       "       [ 24,  25,  26,   1,   3],\n",
       "       [ 27,  28,  29,   1,   4],\n",
       "       [ 30,  31,  32,   2,   0],\n",
       "       [ 33,  34,  35,   2,   1],\n",
       "       [ 36,  37,  38,   2,   2],\n",
       "       [ 39,  40,  41,   2,   3],\n",
       "       [ 42,  43,  44,   2,   4],\n",
       "       [ 45,  46,  47,   3,   0],\n",
       "       [ 48,  49,  50,   3,   1],\n",
       "       [ 51,  52,  53,   3,   2],\n",
       "       [ 54,  55,  56,   3,   3],\n",
       "       [ 57,  58,  59,   3,   4],\n",
       "       [ 60,  61,  62,   4,   0],\n",
       "       [ 63,  64,  65,   4,   1],\n",
       "       [ 66,  67,  68,   4,   2],\n",
       "       [ 69,  70,  71,   4,   3],\n",
       "       [ 72,  73,  74,   4,   4],\n",
       "       [ 75,  76,  77,   5,   0],\n",
       "       [ 78,  79,  80,   5,   1],\n",
       "       [ 81,  82,  83,   5,   2],\n",
       "       [ 84,  85,  86,   5,   3],\n",
       "       [ 87,  88,  89,   5,   4],\n",
       "       [ 90,  91,  92,   6,   0],\n",
       "       [ 93,  94,  95,   6,   1],\n",
       "       [ 96,  97,  98,   6,   2],\n",
       "       [ 99, 100, 101,   6,   3],\n",
       "       [102, 103, 104,   6,   4],\n",
       "       [105, 106, 107,   7,   0],\n",
       "       [108, 109, 110,   7,   1],\n",
       "       [111, 112, 113,   7,   2],\n",
       "       [114, 115, 116,   7,   3],\n",
       "       [117, 118, 119,   7,   4],\n",
       "       [120, 121, 122,   8,   0],\n",
       "       [123, 124, 125,   8,   1],\n",
       "       [126, 127, 128,   8,   2],\n",
       "       [129, 130, 131,   8,   3],\n",
       "       [132, 133, 134,   8,   4],\n",
       "       [135, 136, 137,   9,   0],\n",
       "       [138, 139, 140,   9,   1],\n",
       "       [141, 142, 143,   9,   2],\n",
       "       [144, 145, 146,   9,   3],\n",
       "       [147, 148, 149,   9,   4]], dtype=int64)"
      ]
     },
     "execution_count": 9,
     "metadata": {},
     "output_type": "execute_result"
    }
   ],
   "source": [
    "import numpy as np\n",
    "arr = np.arange(150).reshape(5, 10, 3)\n",
    "x, y, z = arr.shape\n",
    "indices = np.vstack(np.unravel_index(np.arange(x*y), (y, x))).T\n",
    "#or indices = np.hstack((np.repeat(np.arange(y), x)[:,np.newaxis], np.tile(np.arange(x), y)[:,np.newaxis]))\n",
    "np.hstack((arr.reshape(x*y, z), indices))"
   ]
  },
  {
   "cell_type": "code",
   "execution_count": null,
   "metadata": {
    "collapsed": true
   },
   "outputs": [],
   "source": []
  },
  {
   "cell_type": "code",
   "execution_count": null,
   "metadata": {
    "collapsed": true
   },
   "outputs": [],
   "source": []
  }
 ],
 "metadata": {
  "kernelspec": {
   "display_name": "Python 3",
   "language": "python",
   "name": "python3"
  },
  "language_info": {
   "codemirror_mode": {
    "name": "ipython",
    "version": 3
   },
   "file_extension": ".py",
   "mimetype": "text/x-python",
   "name": "python",
   "nbconvert_exporter": "python",
   "pygments_lexer": "ipython3",
   "version": "3.6.1"
  }
 },
 "nbformat": 4,
 "nbformat_minor": 2
}
