{
 "cells": [
  {
   "cell_type": "markdown",
   "metadata": {},
   "source": [
    "### Tarea 2 Francisco Bahena "
   ]
  },
  {
   "cell_type": "markdown",
   "metadata": {},
   "source": [
    "### Primera sección \n",
    "\n",
    "1. Por qué una matriz equivale a una transformación lineal entre espacios vectoriales ?"
   ]
  },
  {
   "cell_type": "markdown",
   "metadata": {},
   "source": [
    "Por qué el resultado de la transformación a un vector, siempre es una combinación lineal entre los elementos el vectors elmentos de la matrix y lo la multiplicación de los elementos del vector por constantes más la suma de sus elementos multiplicados. \n",
    "\n",
    "Durante la transformación, se pueden colapsar dimensiones, por lo que si estabas en el espacio vectorial Rn, puedes acabar en Rm. \n",
    "\n",
    "Ejemplo :     \n",
    "$$Ax = v$$\n",
    "dónde $A =  \\left( \\begin{array}{ccc}\n",
    "1 & 0 & -1 \\\\\n",
    "3 & 1 & 2 \\end{array} \\right)$ es una matriz de $ 2 x 3 $ filas y $ p = \\left(\\begin{array}{ccc} \n",
    "x \\\\ y \\\\ z \\end{array} \\right)$ es un vector de $ 3\\hspace{3mm}x \\hspace{3mm}1 $\n",
    "Eso implica que:\n",
    "$ v = \\left(\\begin{array}{ccc} x - z \\\\ 3x + y + 2z \\end{array} \\right )$ por lo que podemos decir que A es una función linear que:\n",
    "$$ f : \\Bbb R^3 \\rightarrow \\Bbb R^2 $$ \n"
   ]
  },
  {
   "cell_type": "markdown",
   "metadata": {},
   "source": [
    "* Cuál es el efecto de una transformación lineal de una matriz diagonal y una ortogonal ?"
   ]
  },
  {
   "cell_type": "markdown",
   "metadata": {},
   "source": [
    "El efecto de una transformación lineal de una matriz diagonal equivale a multiplicar por los elementos de la diagonal los elementos del vector sobre el que se efectua la transformación, un reescalamiento. Esto se traduce en una especia de rescalamiento del vector pero elemento a elemento. Una especia de multiplicación escalar elemento a elemento sobre la diagonal principal. \n",
    "\n",
    "Entonces el vector no cambia de dimensión, pero si puede cambiar de dirección.\n",
    "\n",
    "Sea $A =  \\left( \\begin{array}{ccc} \n",
    "2 & 0  \\\\\n",
    "0 & 3  \\end{array} \\right)$  y $v = \\left( \\begin{array}{ccc} x \\\\ y \\end{array} \\right)$   \n",
    "\n",
    "Al aplicar la tansformación te quedas con el producto de los elementos por la diagonal:\n",
    "\n",
    "$$ A * v = \\left( \\begin{array}{ccc} \n",
    "2x  \\\\\n",
    "3y  \\end{array} \\right)$$"
   ]
  },
  {
   "cell_type": "markdown",
   "metadata": {},
   "source": [
    "Con respecto a la matriz ortogonal, esta tiene la propiedad de que la inversa es la transpuesta. \n",
    "La transformación de una matriz ortogonal siempre corresponde a una rotación de un vector. El determinante siempre es $1$  o  $-1$, por lo que no hay deformación, sólo rotación. Las columnas de la misma matriz constituyen vectores ortonormales."
   ]
  },
  {
   "cell_type": "markdown",
   "metadata": {},
   "source": [
    "* Que es la descomposición en valores singulares "
   ]
  },
  {
   "cell_type": "markdown",
   "metadata": {},
   "source": [
    "La descomposición en valores singulares de una matriz es la factorización de la misma en otras 3 matrices.\n",
    "Cada un es una transformación lineal. La primera y la tercera es una rotación y la segunda es \n",
    "un cambio de dirección."
   ]
  },
  {
   "cell_type": "markdown",
   "metadata": {},
   "source": [
    "* Qué es diagonalizar una matriz y que representan los eigenvectores\n"
   ]
  },
  {
   "cell_type": "markdown",
   "metadata": {},
   "source": [
    "Diagonalizar una matriz es, encontrar los vectores asociados a esa matriz para los cuales una transformación lineal sólo los reescala por un factor llamado lamda, no los rota o gira. "
   ]
  },
  {
   "cell_type": "markdown",
   "metadata": {},
   "source": [
    "* Intuitivamente que representan los eigenvectores"
   ]
  },
  {
   "cell_type": "markdown",
   "metadata": {
    "collapsed": true
   },
   "source": [
    "Los eigenvectores representan precisamente a estos vectores que, al aplicarles la transformación lineal A, sólo se reescalan. Sin cambiar dirección. El factor de rescalamiento es lamda.   "
   ]
  },
  {
   "cell_type": "markdown",
   "metadata": {},
   "source": [
    "* Como interpretas la descomosicion en valores singulares como una composición de tres tipos de transformacions linales simples."
   ]
  },
  {
   "cell_type": "markdown",
   "metadata": {},
   "source": [
    "La descomposición de valores singulares es descomponer una transformación lineal, (toda matriz A), en \n",
    "3 transformaciones, dos rotaciones o reflecciones, (La primera y tercera matriz, que son ortogonales),\n",
    "y un reescalamiento. El reescalamiento se hace con las raices de los eigenvalores del producto de A transpuesta por A, de la matriz original. La primera rotacion U, se obtiene a partir de los eigenvectores normalizados de Atranspuesta por A, la segunda rotación  se obtiene a partir de los eigenvectores normalizados de A por Atranspuesta. "
   ]
  },
  {
   "cell_type": "markdown",
   "metadata": {},
   "source": [
    "* Qué relación hay entre la descomposición en valores singulares y la diagonalización.? "
   ]
  },
  {
   "cell_type": "markdown",
   "metadata": {
    "collapsed": true
   },
   "source": [
    "Que uno de los componentes de la descomposición es una matríz diagonal."
   ]
  },
  {
   "cell_type": "markdown",
   "metadata": {},
   "source": [
    "* Cómo se usa la descomposición en valores singulares para dr una aproximación de una matriz de rango menor. "
   ]
  },
  {
   "cell_type": "markdown",
   "metadata": {},
   "source": [
    "Se discriminan los valores singulares de mayor a menor y se toman los k más importantes. Se aplica la SVD pero sólo con K valores singulares, por ende U tiene los K autovctores asociados en sus columnas y V transpuesta tiene los K autovectores asociados en sus filas, y ya se tiene una aproximación de la matriz original A."
   ]
  }
 ],
 "metadata": {
  "kernelspec": {
   "display_name": "Python 3",
   "language": "python",
   "name": "python3"
  },
  "language_info": {
   "codemirror_mode": {
    "name": "ipython",
    "version": 3
   },
   "file_extension": ".py",
   "mimetype": "text/x-python",
   "name": "python",
   "nbconvert_exporter": "python",
   "pygments_lexer": "ipython3",
   "version": "3.5.2"
  }
 },
 "nbformat": 4,
 "nbformat_minor": 2
}
