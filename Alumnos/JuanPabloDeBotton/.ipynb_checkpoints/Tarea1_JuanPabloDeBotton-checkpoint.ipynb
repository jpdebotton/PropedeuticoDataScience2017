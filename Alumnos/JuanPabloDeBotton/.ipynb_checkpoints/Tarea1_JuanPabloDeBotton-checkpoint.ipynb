{
 "cells": [
  {
   "cell_type": "markdown",
   "metadata": {
    "deletable": true,
    "editable": true
   },
   "source": [
    "# Tarea 1: Creando una sistema de Álgebra Lineal\n",
    "\n",
    "En esta tarea seran guiados paso a paso en como realizar un sistema de arrays en Python para realizar operaciones de algebra lineal. \n",
    "\n",
    "Pero antes... (FAQ)\n",
    "\n",
    "***Como se hace en la realidad?*** En la practica, se usan *paqueterias* funcionales ya probadas, en particular `numpy`, que contiene todas las herramientas necesarias para hacer computo numerico en `Python`.\n",
    "\n",
    "***Por que hacer esta tarea entonces?*** `Python` es un lenguage disenado para la programacion orientada a objetos. Al hacer la tarea desarrollaran experiencia en este tipo de programacion que les permitira crear objetos en el futuro cuando lo necesiten, y entender mejor como funciona `numpy` y en general, todas las herramientas de `Python`. Ademas, en esta tarea tambien aprenderan la forma de usar `numpy` simultaneamente.\n",
    "\n",
    "***Como comenzar con numpy?*** En la tarea necesitaremos importar la libreria `numpy`, que contiene funciones y clases que no son parte de `Python` basico. Recuerden que Python no es un lenguage de computo cientifico, sino de programacion de proposito general. No esta disenado para hacer algebra lineal, sin embargo, tiene librerias extensas y bien probadas que permiten lograrlo. `Anaconda` es una distribucion de `Python` que ademas de instalarlo incluye varias librerias de computo cientifico como `numpy`. Si instalaron `Python` por separado deberan tambien instalar `numpy` manualmente.\n",
    "\n",
    "Antes de comenzar la tarea deberan poder correr:"
   ]
  },
  {
   "cell_type": "code",
   "execution_count": 62,
   "metadata": {
    "collapsed": true
   },
   "outputs": [],
   "source": [
    "import numpy as np"
   ]
  },
  {
   "cell_type": "markdown",
   "metadata": {},
   "source": [
    "Lo que el codigo anterior hace es asociar al nombre `np` todas las herramientas de la libreria numpy. Ahora podremos llamar funciones de numpy como `np.<numpy_fun>`. El nombre `np` es opcional, pueden cambiarlo pero necesitaran ese nombre para acceder a las funciones de `numpy` como `<new_name>.<numpy_fun>`. Otra opcion es solo inlcuir `import numpy`, en cuya caso las funciones se llaman como `numpy.<numpy_fun>`. Para saber mas del sistema de modulos pueden revisar la liga [https://docs.python.org/2/tutorial/modules.html]()"
   ]
  },
  {
   "cell_type": "markdown",
   "metadata": {},
   "source": [
    "## I. Creando una clase Array\n",
    "\n",
    "`Python` incluye nativo el uso de listas (e.g. x = [1,2,3]). El problema es que las listas no son herramientas de computo numerico, `Python` ni siquiera entiende una suma de ellas. De hecho, la suma la entiende como concatenacion:"
   ]
  },
  {
   "cell_type": "code",
   "execution_count": 63,
   "metadata": {
    "collapsed": false
   },
   "outputs": [
    {
     "data": {
      "text/plain": [
       "[1, 2, 3, 4, 5, 6]"
      ]
     },
     "execution_count": 63,
     "metadata": {},
     "output_type": "execute_result"
    }
   ],
   "source": [
    "x = [1,2,3]\n",
    "y = [4,5,6]\n",
    "x + y"
   ]
  },
  {
   "cell_type": "markdown",
   "metadata": {},
   "source": [
    "Vamos a construir una clase Array que incluye a las matrices y a los vectores. Desde el punto de vista computacional, un vector es una matriz de una columna. En clase vimos que conviene pensar a las matrices como transformacion de vectores, sin embargo, desde el punto de vista computacional, como la regla de suma y multiplicacion es similar, conviene pensarlos ambos como *arrays*, que es el nombre tradicional en programacion\n",
    "\n",
    "**Computacionalmente, que es un array?** Tecnicamente, es una lista de listas, todas del mismo tamano, cada uno representando una **fila** (fila o columna es optativo, haremos filas porque asi lo hace `numpy`, pero yo previero columnas). Por ejemplo, la lista de listas\n",
    "```\n",
    "[[1,2,3],[4,5,6]]\n",
    "```\n",
    "Corresponde a la matriz\n",
    "$$\n",
    "\\begin{bmatrix} 1 & 2 & 3 \\\\ 4 & 5 & 6  \\end{bmatrix}\n",
    "$$"
   ]
  },
  {
   "cell_type": "markdown",
   "metadata": {},
   "source": [
    "### The numpy way"
   ]
  },
  {
   "cell_type": "code",
   "execution_count": 64,
   "metadata": {
    "collapsed": true
   },
   "outputs": [],
   "source": [
    "B = np.array([[1,2,3], [4,5,6]]) # habiendo corrido import numpy as np"
   ]
  },
  {
   "cell_type": "markdown",
   "metadata": {},
   "source": [
    "Es posible sumar matrices y multiplicarlas por escalares"
   ]
  },
  {
   "cell_type": "code",
   "execution_count": 65,
   "metadata": {
    "collapsed": false
   },
   "outputs": [
    {
     "data": {
      "text/plain": [
       "array([[ 3,  6,  9],\n",
       "       [12, 15, 18]])"
      ]
     },
     "execution_count": 65,
     "metadata": {},
     "output_type": "execute_result"
    }
   ],
   "source": [
    "B + 2*B # Python sabe sumar y multiplicar arrays como algebra lineal"
   ]
  },
  {
   "cell_type": "markdown",
   "metadata": {},
   "source": [
    "Las matrices de numpy se pueden multiplicar con la funcion `matmul` dentro de `numpy`"
   ]
  },
  {
   "cell_type": "code",
   "execution_count": 66,
   "metadata": {
    "collapsed": false
   },
   "outputs": [
    {
     "data": {
      "text/plain": [
       "array([[17, 22, 27],\n",
       "       [22, 29, 36],\n",
       "       [27, 36, 45]])"
      ]
     },
     "execution_count": 66,
     "metadata": {},
     "output_type": "execute_result"
    }
   ],
   "source": [
    "np.matmul(B.transpose(), B) # B^t*B"
   ]
  },
  {
   "cell_type": "markdown",
   "metadata": {},
   "source": [
    "Los arrays the numpy pueden accesarse con indices y slices\n",
    "\n",
    "Una entrada especifica:"
   ]
  },
  {
   "cell_type": "code",
   "execution_count": 67,
   "metadata": {
    "collapsed": false
   },
   "outputs": [
    {
     "data": {
      "text/plain": [
       "5"
      ]
     },
     "execution_count": 67,
     "metadata": {},
     "output_type": "execute_result"
    }
   ],
   "source": [
    "B[1,1]"
   ]
  },
  {
   "cell_type": "markdown",
   "metadata": {},
   "source": [
    "Una fila entera:"
   ]
  },
  {
   "cell_type": "code",
   "execution_count": 68,
   "metadata": {
    "collapsed": false
   },
   "outputs": [
    {
     "data": {
      "text/plain": [
       "array([4, 5, 6])"
      ]
     },
     "execution_count": 68,
     "metadata": {},
     "output_type": "execute_result"
    }
   ],
   "source": [
    "B[1,:]"
   ]
  },
  {
   "cell_type": "markdown",
   "metadata": {},
   "source": [
    "Una columna entera:"
   ]
  },
  {
   "cell_type": "code",
   "execution_count": 69,
   "metadata": {
    "collapsed": false
   },
   "outputs": [
    {
     "data": {
      "text/plain": [
       "array([3, 6])"
      ]
     },
     "execution_count": 69,
     "metadata": {},
     "output_type": "execute_result"
    }
   ],
   "source": [
    "B[:,2]"
   ]
  },
  {
   "cell_type": "markdown",
   "metadata": {},
   "source": [
    "Un subbloque (notar que un slice `n:m` es `n,n+1,...,m-1`"
   ]
  },
  {
   "cell_type": "code",
   "execution_count": 70,
   "metadata": {
    "collapsed": false
   },
   "outputs": [
    {
     "data": {
      "text/plain": [
       "array([[1, 2],\n",
       "       [4, 5]])"
      ]
     },
     "execution_count": 70,
     "metadata": {},
     "output_type": "execute_result"
    }
   ],
   "source": [
    "B[0:2,0:2]"
   ]
  },
  {
   "cell_type": "markdown",
   "metadata": {},
   "source": [
    "En numpy podemos saber la dimension de un array con el campo `shape` de numpy"
   ]
  },
  {
   "cell_type": "code",
   "execution_count": 71,
   "metadata": {
    "collapsed": false
   },
   "outputs": [
    {
     "data": {
      "text/plain": [
       "(2, 3)"
      ]
     },
     "execution_count": 71,
     "metadata": {},
     "output_type": "execute_result"
    }
   ],
   "source": [
    "B.shape"
   ]
  },
  {
   "cell_type": "markdown",
   "metadata": {},
   "source": [
    "Numpy es listo manejando listas simples como vectores"
   ]
  },
  {
   "cell_type": "code",
   "execution_count": 72,
   "metadata": {
    "collapsed": false
   },
   "outputs": [
    {
     "name": "stdout",
     "output_type": "stream",
     "text": [
      "[1 2 3]\n"
     ]
    }
   ],
   "source": [
    "vec = np.array([1,2,3])\n",
    "print(vec)"
   ]
  },
  {
   "cell_type": "markdown",
   "metadata": {},
   "source": [
    "### Comenzando desde cero..."
   ]
  },
  {
   "cell_type": "code",
   "execution_count": 73,
   "metadata": {
    "collapsed": true
   },
   "outputs": [],
   "source": [
    "class Array:\n",
    "    \"Una clase minima para algebra lineal\"    \n",
    "    def __init__(self, list_of_rows): \n",
    "        \"Constructor\"\n",
    "        self.data = list_of_rows\n",
    "        self.shape = (len(list_of_rows), len(list_of_rows[0]))"
   ]
  },
  {
   "cell_type": "code",
   "execution_count": 74,
   "metadata": {
    "collapsed": false
   },
   "outputs": [
    {
     "data": {
      "text/plain": [
       "{'data': [[1, 2, 3], [4, 5, 6]], 'shape': (2, 3)}"
      ]
     },
     "execution_count": 74,
     "metadata": {},
     "output_type": "execute_result"
    }
   ],
   "source": [
    "A = Array([[1,2,3], [4,5,6]])\n",
    "A.__dict__ # el campo escondido __dict__ permite acceder a las propiedades de clase de un objeto"
   ]
  },
  {
   "cell_type": "code",
   "execution_count": 75,
   "metadata": {
    "collapsed": false
   },
   "outputs": [
    {
     "data": {
      "text/plain": [
       "[[1, 2, 3], [4, 5, 6]]"
      ]
     },
     "execution_count": 75,
     "metadata": {},
     "output_type": "execute_result"
    }
   ],
   "source": [
    "A.data"
   ]
  },
  {
   "cell_type": "code",
   "execution_count": 76,
   "metadata": {
    "collapsed": false
   },
   "outputs": [
    {
     "data": {
      "text/plain": [
       "(2, 3)"
      ]
     },
     "execution_count": 76,
     "metadata": {},
     "output_type": "execute_result"
    }
   ],
   "source": [
    "A.shape"
   ]
  },
  {
   "cell_type": "markdown",
   "metadata": {},
   "source": [
    "El campo `data` de un Array almacena la lista de listas del array. Necesitamos implementar algunos metodos para que sea funcional como una clase de algebra lineal. \n",
    "\n",
    "0. **Un metodo para imprimir una matriz de forma mas agradable** \n",
    "1. **Validador**. Un metodo para validar que la lista de listas sea valida (columnas del mismo tamano y que las listas interiores sean numericas\n",
    "2. **Indexing** Hacer sentido a expresiones A[i,j]\n",
    "3. **Iniciar matriz vacia de ceros** Este metodos es muy util para preacolar espacio para guardar nuevas matrices\n",
    "4. **Transposicion** B.transpose()\n",
    "5. **Suma** A + B\n",
    "6. **Multiplicacion escalar y matricial** 2 * A y A*B\n",
    "7. **Vectores** (Opcional)\n",
    "\n",
    "Con esto seria posible hacer algebra lineal\n",
    "\n",
    "#### Metodos especiales de clase...\n",
    "\n",
    "Para hacer esto es posible usar metodos especiales de clase `__getitem`, `__setitem__`, `__add__`, `__mul__`, `__str__`. Teoricamente es posible hacer todo sin estos metodos especiales, pero, por ejemplo, es mucho mas agradable escribir `A[i,j]` que `A.get(i,j)` o `A.setitem(i,j,newval)` que `A[i,j] = newval`."
   ]
  },
  {
   "cell_type": "markdown",
   "metadata": {},
   "source": [
    "### 1. Un metodo para imprimir mejor...\n",
    "\n",
    "Necesitamos agregar un metodo de impresion. Noten que un array de numpy se imprime bonito comparado con el nuestro"
   ]
  },
  {
   "cell_type": "code",
   "execution_count": 77,
   "metadata": {
    "collapsed": false
   },
   "outputs": [
    {
     "data": {
      "text/plain": [
       "<__main__.Array at 0x104eeac88>"
      ]
     },
     "execution_count": 77,
     "metadata": {},
     "output_type": "execute_result"
    }
   ],
   "source": [
    "Array([[1,2,3], [4,5,6]])"
   ]
  },
  {
   "cell_type": "code",
   "execution_count": 78,
   "metadata": {
    "collapsed": false
   },
   "outputs": [
    {
     "name": "stdout",
     "output_type": "stream",
     "text": [
      "<__main__.Array object at 0x104eeacc0>\n"
     ]
    }
   ],
   "source": [
    "print(Array([[1,2,3], [4,5,6]]))"
   ]
  },
  {
   "cell_type": "code",
   "execution_count": 79,
   "metadata": {
    "collapsed": false
   },
   "outputs": [
    {
     "data": {
      "text/plain": [
       "array([[1, 2, 3],\n",
       "       [4, 5, 6]])"
      ]
     },
     "execution_count": 79,
     "metadata": {},
     "output_type": "execute_result"
    }
   ],
   "source": [
    "np.array([[1,2,3], [4,5,6]])"
   ]
  },
  {
   "cell_type": "code",
   "execution_count": 80,
   "metadata": {
    "collapsed": false
   },
   "outputs": [
    {
     "name": "stdout",
     "output_type": "stream",
     "text": [
      "[[1 2 3]\n",
      " [4 5 6]]\n"
     ]
    }
   ],
   "source": [
    "print(np.array([[1,2,3], [4,5,6]]))"
   ]
  },
  {
   "cell_type": "markdown",
   "metadata": {},
   "source": [
    "Por que estas diferencias? Python secretamente busca un metodo llamado `__repr__` cuando un objeto es llamado sin imprimir explicitamente, y  `__str__` cuando se imprime con `print` explicitamente. Por ejemplo:"
   ]
  },
  {
   "cell_type": "code",
   "execution_count": 81,
   "metadata": {
    "collapsed": true
   },
   "outputs": [],
   "source": [
    "class TestClass:\n",
    "    def __init__(self):\n",
    "        pass # this means do nothing in Python\n",
    "    def say_hi(self):\n",
    "        print(\"Hey, I am just a normal method saying hi!\")\n",
    "    def __repr__(self):\n",
    "        return \"I am the special class method REPRESENTING a TestClass without printing\"\n",
    "    def __str__(self):\n",
    "        return \"I am the special class method for explicitly PRINTING a TestClass object\""
   ]
  },
  {
   "cell_type": "code",
   "execution_count": 82,
   "metadata": {
    "collapsed": true
   },
   "outputs": [],
   "source": [
    "x = TestClass()"
   ]
  },
  {
   "cell_type": "code",
   "execution_count": 83,
   "metadata": {
    "collapsed": false
   },
   "outputs": [
    {
     "name": "stdout",
     "output_type": "stream",
     "text": [
      "Hey, I am just a normal method saying hi!\n"
     ]
    }
   ],
   "source": [
    "x.say_hi()"
   ]
  },
  {
   "cell_type": "code",
   "execution_count": 84,
   "metadata": {
    "collapsed": false
   },
   "outputs": [
    {
     "data": {
      "text/plain": [
       "I am the special class method REPRESENTING a TestClass without printing"
      ]
     },
     "execution_count": 84,
     "metadata": {},
     "output_type": "execute_result"
    }
   ],
   "source": [
    "x"
   ]
  },
  {
   "cell_type": "code",
   "execution_count": 85,
   "metadata": {
    "collapsed": false
   },
   "outputs": [
    {
     "name": "stdout",
     "output_type": "stream",
     "text": [
      "I am the special class method for explicitly PRINTING a TestClass object\n"
     ]
    }
   ],
   "source": [
    "print(x)"
   ]
  },
  {
   "cell_type": "markdown",
   "metadata": {},
   "source": [
    "### Ejercicios"
   ]
  },
  {
   "cell_type": "code",
   "execution_count": 126,
   "metadata": {
    "collapsed": true
   },
   "outputs": [],
   "source": [
    "class Array:\n",
    "    \"Una clase minima para algebra lineal\"    \n",
    "    def __init__(self, list_of_rows): \n",
    "        \"Constructor y validador\"\n",
    "        # obtener dimensiones\n",
    "        self.data = list_of_rows\n",
    "        nrow = len(list_of_rows)\n",
    "        #  ___caso vector: redimensionar correctamente\n",
    "        if not isinstance(list_of_rows[0], list):\n",
    "            nrow = 1\n",
    "            self.data = [[x] for x in list_of_rows]\n",
    "        # ahora las columnas deben estar bien aunque sea un vector\n",
    "        ncol = len(self.data[0])\n",
    "        self.shape = (nrow, ncol)\n",
    "        # validar tamano correcto de filas\n",
    "        if any([len(r) != ncol for r in self.data]):\n",
    "            raise Exception(\"Las filas deben ser del mismo tamano\")\n",
    "                    \n",
    "    # Ejercicio 1\n",
    "    def __repr__(self):\n",
    "        str2print = \"Array\"   \n",
    "        for i in range(len(self.data)):\n",
    "            if(i==0):\n",
    "                str2print += str(self.data[i]) + \"\\n\"\n",
    "            if(i>0):\n",
    "                str2print += \"     \" + str(self.data[i]) + \"\\n\" \n",
    "        return str2print\n",
    "    \n",
    "    def __str__(self):\n",
    "        str2print = \"\"   \n",
    "        for i in range(len(self.data)):\n",
    "            str2print += str(self.data[i]) + \"\\n\"\n",
    "        return str2print\n",
    "    \n",
    "    #Ejercicio2\n",
    "    def __getitem__(self, idx):\n",
    "        return self.data[idx[0]][idx[1]]\n",
    "    \n",
    "    \n",
    "    def __setitem__(self, idx, valor):\n",
    "        self.data[idx[0]][idx[1]] = valor\n",
    "        \n",
    "    # Ejercicio 3\n",
    "    def zeros(x, y):\n",
    "        array_de_ceros = Array([[0 for col in range(y)] for row in range(x)])\n",
    "        return array_de_ceros\n",
    "        \n",
    "    def eye(x):\n",
    "        array_eye = Array([[0 for col in range(x)] for row in range(x)])  \n",
    "        for i in range(x):\n",
    "            for j in range(x):\n",
    "                if i == j:\n",
    "                    array_eye[i,j] = 1\n",
    "        return array_eye\n",
    "    \n",
    "    # Ejercicio 4\n",
    "    def transpose(self):\n",
    "        #Obtener dimensiones\n",
    "        num_row = len(self.data)\n",
    "        num_col = len(self.data[0])  \n",
    "        #Crear matriz receptora\n",
    "        mat_transpuesta = Array([[0 for col in range(num_row)] for row in range(num_col)])\n",
    "        #Transponer\n",
    "        for i in range(num_row):\n",
    "            for j in range(num_col):\n",
    "                mat_transpuesta[j,i] = self.data[i][j]         \n",
    "        return mat_transpuesta\n",
    "    \n",
    "    def __add__(self, other):\n",
    "        \"Hora de sumar\"\n",
    "        if isinstance(other, Array):\n",
    "            if self.shape != other.shape:\n",
    "                raise Exception(\"Las dimensiones son distintas!\")\n",
    "            rows, cols = self.shape\n",
    "            newArray = Array([[0. for c in range(cols)] for r in range(rows)])\n",
    "            for r in range(rows):\n",
    "                for c in range(cols):\n",
    "                    newArray.data[r][c] = self.data[r][c] + other.data[r][c]\n",
    "            return newArray\n",
    "        elif isinstance(2, (int, float, complex)): # en caso de que el lado derecho sea solo un numero\n",
    "            rows, cols = self.shape\n",
    "            newArray = Array([[0. for c in range(cols)] for r in range(rows)])\n",
    "            for r in range(rows):\n",
    "                for c in range(cols):\n",
    "                    newArray.data[r][c] = self.data[r][c] + other\n",
    "            return newArray\n",
    "        else:\n",
    "            return NotImplemented # es un tipo de error particular usado en estos metodos\n",
    "        \n",
    "    #Ejercicio 5\n",
    "    ##No me salió :(\n",
    "\n",
    "    #Ejercicio 6\n",
    "    def __mul__(self, other):\n",
    "        if isinstance(other, Array):\n",
    "            #Validar las dimensiones\n",
    "            if self.shape[1] != other.shape[0]:\n",
    "                raise Exception(\"Las matrices no son compatibles!\")\n",
    "            #Obtener las dimensiones\n",
    "            num_rowsA = self.shape[0]\n",
    "            num_rowsB = other.shape[0]\n",
    "            num_colsB = other.shape[1]\n",
    "            #Crear matriz receptora\n",
    "            newArray = Array([[0 for col in range(num_colsB)] for row in range(num_rowsA)])\n",
    "            #Multiplicar\n",
    "            for i in range(num_rowsA):\n",
    "                for j in range(num_colsB):\n",
    "                    for k in range(num_rowsB):\n",
    "                        newArray[i,j] = newArray[i,j] + self.data[i][k] * other.data[k][j]\n",
    "            return newArray\n",
    "        #Matriz, entero\n",
    "        elif isinstance(other, (int, float, complex)):\n",
    "            #Obtener las dimensiones\n",
    "            rows, cols = self.shape\n",
    "            #Crear matriz receptora\n",
    "            newArray = Array([[0 for col in range(cols)] for row in range(rows)])\n",
    "            #Multiplicar\n",
    "            for row in range(rows):\n",
    "                for col in range(cols):\n",
    "                    newArray.data[row][col] = self.data[row][col] * other\n",
    "            return newArray\n",
    "        else:\n",
    "            return NotImplemented\n",
    "        \n",
    "    def __rmul__(self, other):\n",
    "        if isinstance(other, (int, float, complex)):\n",
    "            rows, cols = self.shape\n",
    "            newArray = Array([[0 for col in range(cols)] for row in range(rows)])\n",
    "            for row in range(rows):\n",
    "                for col in range(cols):\n",
    "                    newArray.data[row][col] = self.data[row][col] * other\n",
    "            return newArray\n",
    "        else:\n",
    "            return NotImplemented   "
   ]
  },
  {
   "cell_type": "markdown",
   "metadata": {},
   "source": [
    "### Prueba de las clases"
   ]
  },
  {
   "cell_type": "code",
   "execution_count": 127,
   "metadata": {
    "collapsed": true
   },
   "outputs": [],
   "source": [
    "X = Array([[1,2,3,4,5],[6,7,8,9,10],[11,12,13,14,15]])"
   ]
  },
  {
   "cell_type": "code",
   "execution_count": 128,
   "metadata": {
    "collapsed": false
   },
   "outputs": [
    {
     "data": {
      "text/plain": [
       "Array[1, 2, 3, 4, 5]\n",
       "     [6, 7, 8, 9, 10]\n",
       "     [11, 12, 13, 14, 15]"
      ]
     },
     "execution_count": 128,
     "metadata": {},
     "output_type": "execute_result"
    }
   ],
   "source": [
    "X"
   ]
  },
  {
   "cell_type": "code",
   "execution_count": 129,
   "metadata": {
    "collapsed": false
   },
   "outputs": [
    {
     "name": "stdout",
     "output_type": "stream",
     "text": [
      "[1, 2, 3, 4, 5]\n",
      "[6, 7, 8, 9, 10]\n",
      "[11, 12, 13, 14, 15]\n",
      "\n"
     ]
    }
   ],
   "source": [
    "print(X)"
   ]
  },
  {
   "cell_type": "code",
   "execution_count": 130,
   "metadata": {
    "collapsed": false
   },
   "outputs": [
    {
     "data": {
      "text/plain": [
       "3"
      ]
     },
     "execution_count": 130,
     "metadata": {},
     "output_type": "execute_result"
    }
   ],
   "source": [
    "X[0,2]"
   ]
  },
  {
   "cell_type": "code",
   "execution_count": 131,
   "metadata": {
    "collapsed": false
   },
   "outputs": [
    {
     "data": {
      "text/plain": [
       "Array[1, 2, 3, 4, 5]\n",
       "     [6, 7, 8, 9, 10]\n",
       "     [11, 12, 13, 14, 15]"
      ]
     },
     "execution_count": 131,
     "metadata": {},
     "output_type": "execute_result"
    }
   ],
   "source": [
    "X"
   ]
  },
  {
   "cell_type": "code",
   "execution_count": 132,
   "metadata": {
    "collapsed": true
   },
   "outputs": [],
   "source": [
    "X[0,0] = 10"
   ]
  },
  {
   "cell_type": "code",
   "execution_count": 133,
   "metadata": {
    "collapsed": false
   },
   "outputs": [
    {
     "data": {
      "text/plain": [
       "Array[10, 2, 3, 4, 5]\n",
       "     [6, 7, 8, 9, 10]\n",
       "     [11, 12, 13, 14, 15]"
      ]
     },
     "execution_count": 133,
     "metadata": {},
     "output_type": "execute_result"
    }
   ],
   "source": [
    "X"
   ]
  },
  {
   "cell_type": "code",
   "execution_count": 134,
   "metadata": {
    "collapsed": false
   },
   "outputs": [
    {
     "data": {
      "text/plain": [
       "Array[0, 0, 0, 0, 0]\n",
       "     [0, 0, 0, 0, 0]\n",
       "     [0, 0, 0, 0, 0]\n",
       "     [0, 0, 0, 0, 0]\n",
       "     [0, 0, 0, 0, 0]"
      ]
     },
     "execution_count": 134,
     "metadata": {},
     "output_type": "execute_result"
    }
   ],
   "source": [
    "Array.zeros(5,5)"
   ]
  },
  {
   "cell_type": "code",
   "execution_count": 135,
   "metadata": {
    "collapsed": false
   },
   "outputs": [
    {
     "data": {
      "text/plain": [
       "Array[1, 0, 0, 0]\n",
       "     [0, 1, 0, 0]\n",
       "     [0, 0, 1, 0]\n",
       "     [0, 0, 0, 1]"
      ]
     },
     "execution_count": 135,
     "metadata": {},
     "output_type": "execute_result"
    }
   ],
   "source": [
    "Array.eye(4)"
   ]
  },
  {
   "cell_type": "code",
   "execution_count": 136,
   "metadata": {
    "collapsed": false
   },
   "outputs": [
    {
     "data": {
      "text/plain": [
       "Array[10, 6, 11]\n",
       "     [2, 7, 12]\n",
       "     [3, 8, 13]\n",
       "     [4, 9, 14]\n",
       "     [5, 10, 15]"
      ]
     },
     "execution_count": 136,
     "metadata": {},
     "output_type": "execute_result"
    }
   ],
   "source": [
    "X.transpose() "
   ]
  },
  {
   "cell_type": "code",
   "execution_count": 137,
   "metadata": {
    "collapsed": true
   },
   "outputs": [],
   "source": [
    "B = Array.eye(5)"
   ]
  },
  {
   "cell_type": "code",
   "execution_count": 138,
   "metadata": {
    "collapsed": false
   },
   "outputs": [
    {
     "data": {
      "text/plain": [
       "Array[1, 0, 0, 0, 0]\n",
       "     [0, 1, 0, 0, 0]\n",
       "     [0, 0, 1, 0, 0]\n",
       "     [0, 0, 0, 1, 0]\n",
       "     [0, 0, 0, 0, 1]"
      ]
     },
     "execution_count": 138,
     "metadata": {},
     "output_type": "execute_result"
    }
   ],
   "source": [
    "B"
   ]
  },
  {
   "cell_type": "code",
   "execution_count": 139,
   "metadata": {
    "collapsed": false
   },
   "outputs": [
    {
     "data": {
      "text/plain": [
       "Array[10, 2, 3, 4, 5]\n",
       "     [6, 7, 8, 9, 10]\n",
       "     [11, 12, 13, 14, 15]"
      ]
     },
     "execution_count": 139,
     "metadata": {},
     "output_type": "execute_result"
    }
   ],
   "source": [
    "X*B"
   ]
  }
 ],
 "metadata": {
  "kernelspec": {
   "display_name": "Python 3",
   "language": "python",
   "name": "python3"
  },
  "language_info": {
   "codemirror_mode": {
    "name": "ipython",
    "version": 3
   },
   "file_extension": ".py",
   "mimetype": "text/x-python",
   "name": "python",
   "nbconvert_exporter": "python",
   "pygments_lexer": "ipython3",
   "version": "3.5.2"
  }
 },
 "nbformat": 4,
 "nbformat_minor": 2
}
